{
  "cells": [
    {
      "cell_type": "markdown",
      "metadata": {
        "colab_type": "text",
        "id": "7AqXLpH1eh0r"
      },
      "source": [
        "# **Naive Bayes Classifier**\n",
        "\n",
        "Naive Bayes classifiers are a collection of classification algorithms based on Bayes' Theorem. It is not a single algorithm but a family of algorithms where all of them share a common principle, i.e. every pair of features being classified is independent of each other.\n",
        "\n",
        "By [Muhammad Huzaifa Shahbaz](https://www.linkedin.com/in/mhuzaifadev)"
      ]
    },
    {
      "cell_type": "markdown",
      "metadata": {
        "colab_type": "text",
        "id": "EkXtM692ev1u"
      },
      "source": [
        "## **Importing libraries**\n",
        "\n",
        "We will import Pandas as *pd*, train_test_split from sklearn.model_selection, confusion_matrix & accuracy_score from sklearn.metrics and GaussianNB from sklearn.naive_bayes."
      ]
    },
    {
      "cell_type": "code",
      "execution_count": 3,
      "metadata": {
        "colab": {},
        "colab_type": "code",
        "id": "hewapbOjdYLB"
      },
      "outputs": [],
      "source": [
        "import pandas as pd\n",
        "from sklearn.naive_bayes import GaussianNB\n",
        "from sklearn.model_selection import train_test_split\n",
        "import matplotlib.pyplot as plt\n",
        "from sklearn import metrics\n",
        "from sklearn.metrics import confusion_matrix\n",
        "from sklearn.metrics import accuracy_score"
      ]
    },
    {
      "cell_type": "markdown",
      "metadata": {
        "colab_type": "text",
        "id": "PsAOn1BiC-_o"
      },
      "source": [
        "## **DataFraming**\n",
        "\n",
        "Read .csv data into a Dataframe "
      ]
    },
    {
      "cell_type": "code",
      "execution_count": 4,
      "metadata": {
        "colab": {
          "base_uri": "https://localhost:8080/",
          "height": 439
        },
        "colab_type": "code",
        "id": "A9gmwPuuDTq7",
        "outputId": "8a4009cd-79d1-4487-e057-e5da813dffce"
      },
      "outputs": [
        {
          "name": "stdout",
          "output_type": "stream",
          "text": [
            "   age  job  marital  education  default  balance  housing  loan  contact  \\\n",
            "0   30   77       17         21       31     1787       41    51       61   \n",
            "1   33   78       17         22       31     4789       42    52       61   \n",
            "2   35   79       16         23       31     1350       42    51       61   \n",
            "3   30   79       17         23       31     1476       42    52       63   \n",
            "4   59   80       17         22       31        0       42    51       63   \n",
            "\n",
            "   day  month  duration  campaign  pdays  previous  poutcome  color  \n",
            "0   19     10        79         1      1         0        74     91  \n",
            "1   11      5       220         1    339         4        71     91  \n",
            "2   16      4       185         1    330         1        71     91  \n",
            "3    3      6       199         4      1         0        74     91  \n",
            "4    5      5       226         1      1         0        74     91  \n",
            "               age          job      marital    education      default  \\\n",
            "count  4521.000000  4521.000000  4521.000000  4521.000000  4521.000000   \n",
            "mean     41.170095    80.147313    16.852245    22.231365    31.016810   \n",
            "std      10.576211     2.593043     0.599650     0.748744     0.128575   \n",
            "min      19.000000    76.000000    16.000000    21.000000    31.000000   \n",
            "25%      33.000000    79.000000    16.000000    22.000000    31.000000   \n",
            "50%      39.000000    80.000000    17.000000    22.000000    31.000000   \n",
            "75%      49.000000    82.000000    17.000000    23.000000    31.000000   \n",
            "max      87.000000    87.000000    18.000000    24.000000    32.000000   \n",
            "\n",
            "            balance      housing         loan      contact          day  \\\n",
            "count   4521.000000  4521.000000  4521.000000  4521.000000  4521.000000   \n",
            "mean    1476.010175    41.566025    51.152842    61.652289    15.915284   \n",
            "std     2983.829212     0.495676     0.359875     0.901498     8.247667   \n",
            "min        0.000000    41.000000    51.000000    61.000000     1.000000   \n",
            "25%      133.000000    41.000000    51.000000    61.000000     9.000000   \n",
            "50%      478.000000    42.000000    51.000000    61.000000    16.000000   \n",
            "75%     1490.000000    42.000000    51.000000    63.000000    21.000000   \n",
            "max    71188.000000    42.000000    52.000000    63.000000    31.000000   \n",
            "\n",
            "             month     duration     campaign        pdays     previous  \\\n",
            "count  4521.000000  4521.000000  4521.000000  4521.000000  4521.000000   \n",
            "mean      6.166777   263.961292     2.793630    41.405662     0.542579   \n",
            "std       2.378380   259.856633     3.109807    99.454348     1.693562   \n",
            "min       1.000000     4.000000     1.000000     1.000000     0.000000   \n",
            "25%       5.000000   104.000000     1.000000     1.000000     0.000000   \n",
            "50%       6.000000   185.000000     2.000000     1.000000     0.000000   \n",
            "75%       8.000000   329.000000     3.000000     1.000000     0.000000   \n",
            "max      12.000000  3025.000000    50.000000   871.000000    25.000000   \n",
            "\n",
            "          poutcome        color  \n",
            "count  4521.000000  4521.000000  \n",
            "mean     73.574209    91.115240  \n",
            "std       0.975740     0.319347  \n",
            "min      71.000000    91.000000  \n",
            "25%      74.000000    91.000000  \n",
            "50%      74.000000    91.000000  \n",
            "75%      74.000000    91.000000  \n",
            "max      74.000000    92.000000  \n",
            "                age       job   marital  education   default   balance  \\\n",
            "age        1.000000  0.263254  0.381485  -0.121613 -0.017885  0.084418   \n",
            "job        0.263254  1.000000  0.022396  -0.041260  0.009824  0.057294   \n",
            "marital    0.381485  0.022396  1.000000  -0.102714  0.020745 -0.022641   \n",
            "education -0.121613 -0.041260 -0.102714   1.000000 -0.010534  0.056275   \n",
            "default   -0.017885  0.009824  0.020745  -0.010534  1.000000 -0.050524   \n",
            "balance    0.084418  0.057294 -0.022641   0.056275 -0.050524  1.000000   \n",
            "housing   -0.193888 -0.177632  0.029851  -0.087070  0.006881 -0.042253   \n",
            "loan      -0.011250 -0.026978  0.045210  -0.054086  0.063994 -0.063108   \n",
            "contact    0.015161 -0.019631  0.068236  -0.110554  0.008448 -0.005555   \n",
            "day       -0.017853 -0.014685 -0.008794   0.014926 -0.013261 -0.006488   \n",
            "month      0.073764  0.047171  0.051565   0.061689  0.008917  0.098142   \n",
            "duration  -0.002367  0.022116 -0.006619  -0.014878 -0.011615 -0.014404   \n",
            "campaign  -0.005148 -0.021141 -0.005915  -0.001723 -0.012348 -0.011690   \n",
            "pdays     -0.009088 -0.031029 -0.016916   0.011841 -0.026191  0.007581   \n",
            "previous  -0.003511  0.000083 -0.038028   0.023983 -0.026656  0.025812   \n",
            "poutcome  -0.023252  0.002586  0.027441  -0.034408  0.044722 -0.033249   \n",
            "color      0.045092  0.052165 -0.015042   0.042987  0.001303  0.017126   \n",
            "\n",
            "            housing      loan   contact       day     month  duration  \\\n",
            "age       -0.193888 -0.011250  0.015161 -0.017853  0.073764 -0.002367   \n",
            "job       -0.177632 -0.026978 -0.019631 -0.014685  0.047171  0.022116   \n",
            "marital    0.029851  0.045210  0.068236 -0.008794  0.051565 -0.006619   \n",
            "education -0.087070 -0.054086 -0.110554  0.014926  0.061689 -0.014878   \n",
            "default    0.006881  0.063994  0.008448 -0.013261  0.008917 -0.011615   \n",
            "balance   -0.042253 -0.063108 -0.005555 -0.006488  0.098142 -0.014404   \n",
            "housing    1.000000  0.018451  0.196454 -0.031291 -0.170922  0.015740   \n",
            "loan       0.018451  1.000000 -0.007319 -0.004879  0.039226 -0.004997   \n",
            "contact    0.196454 -0.007319  1.000000 -0.033807 -0.188191 -0.011380   \n",
            "day       -0.031291 -0.004879 -0.033807  1.000000  0.080436 -0.024629   \n",
            "month     -0.170922  0.039226 -0.188191  0.080436  1.000000 -0.000282   \n",
            "duration   0.015740 -0.004997 -0.011380 -0.024629 -0.000282  1.000000   \n",
            "campaign  -0.003574  0.017120  0.012278  0.160706  0.059214 -0.068382   \n",
            "pdays      0.117191 -0.030977 -0.242696 -0.094403 -0.112181  0.010332   \n",
            "previous   0.038621 -0.022115 -0.187232 -0.059114 -0.037410  0.018080   \n",
            "poutcome  -0.069714  0.032272  0.264004  0.075269  0.072553 -0.006223   \n",
            "color     -0.104683 -0.070517 -0.133595 -0.011244  0.023335  0.401118   \n",
            "\n",
            "           campaign     pdays  previous  poutcome     color  \n",
            "age       -0.005148 -0.009088 -0.003511 -0.023252  0.045092  \n",
            "job       -0.021141 -0.031029  0.000083  0.002586  0.052165  \n",
            "marital   -0.005915 -0.016916 -0.038028  0.027441 -0.015042  \n",
            "education -0.001723  0.011841  0.023983 -0.034408  0.042987  \n",
            "default   -0.012348 -0.026191 -0.026656  0.044722  0.001303  \n",
            "balance   -0.011690  0.007581  0.025812 -0.033249  0.017126  \n",
            "housing   -0.003574  0.117191  0.038621 -0.069714 -0.104683  \n",
            "loan       0.017120 -0.030977 -0.022115  0.032272 -0.070517  \n",
            "contact    0.012278 -0.242696 -0.187232  0.264004 -0.133595  \n",
            "day        0.160706 -0.094403 -0.059114  0.075269 -0.011244  \n",
            "month      0.059214 -0.112181 -0.037410  0.072553  0.023335  \n",
            "duration  -0.068382  0.010332  0.018080 -0.006223  0.401118  \n",
            "campaign   1.000000 -0.092853 -0.067833  0.116128 -0.061147  \n",
            "pdays     -0.092853  1.000000  0.576153 -0.828052  0.103531  \n",
            "previous  -0.067833  0.576153  1.000000 -0.614729  0.116714  \n",
            "poutcome   0.116128 -0.828052 -0.614729  1.000000 -0.121528  \n",
            "color     -0.061147  0.103531  0.116714 -0.121528  1.000000  \n"
          ]
        }
      ],
      "source": [
        "data = pd.read_csv(\"bank_2.csv\")\n",
        "print(data.head())\n",
        "print(data.describe())\n",
        "print(data.corr())"
      ]
    },
    {
      "cell_type": "markdown",
      "metadata": {
        "colab_type": "text",
        "id": "N0c60VUJEfr-"
      },
      "source": [
        "## **Features Extraction**\n",
        "\n",
        "Extracting features and splitting data into test and train."
      ]
    },
    {
      "cell_type": "code",
      "execution_count": 5,
      "metadata": {
        "colab": {},
        "colab_type": "code",
        "id": "X4X2kjPahc0V"
      },
      "outputs": [
        {
          "name": "stderr",
          "output_type": "stream",
          "text": [
            "C:\\Users\\ABDULA~1\\AppData\\Local\\Temp/ipykernel_12108/1377649769.py:1: UserWarning: Pandas doesn't allow columns to be created via a new attribute name - see https://pandas.pydata.org/pandas-docs/stable/indexing.html#attribute-access\n",
            "  data.features = data[['age','job','marital', 'education', 'default','balance', 'housing', 'loan','contact','day','month','duration','campaign', 'pdays','previous', 'poutcome','color']]\n",
            "C:\\Users\\ABDULA~1\\AppData\\Local\\Temp/ipykernel_12108/1377649769.py:3: UserWarning: Pandas doesn't allow columns to be created via a new attribute name - see https://pandas.pydata.org/pandas-docs/stable/indexing.html#attribute-access\n",
            "  data.target=data['color']\n"
          ]
        }
      ],
      "source": [
        "data.features = data[['age','job','marital', 'education', 'default','balance', 'housing', 'loan','contact','day','month','duration','campaign', 'pdays','previous', 'poutcome','color']]\n",
        "#data.target = data.color\n",
        "data.target=data['color']\n",
        "feature_train, feature_test, target_train, target_test = train_test_split(data.features,data.target)"
      ]
    },
    {
      "cell_type": "markdown",
      "metadata": {
        "colab_type": "text",
        "id": "nHxk6jzYLx0m"
      },
      "source": [
        "## **Training the Model**\n",
        "\n",
        "We are using GaussianNB model as imported from sklearn.naive_bayes library and then it's being trained on feature_train and target_train"
      ]
    },
    {
      "cell_type": "code",
      "execution_count": 6,
      "metadata": {
        "colab": {},
        "colab_type": "code",
        "id": "zcVLyHh3L5Rv"
      },
      "outputs": [],
      "source": [
        "model = GaussianNB()\n",
        "fitModel = model.fit(feature_train, target_train)\n",
        "predictions = fitModel.predict(feature_test)"
      ]
    },
    {
      "cell_type": "code",
      "execution_count": 7,
      "metadata": {},
      "outputs": [],
      "source": [
        "# Creating a function to report confusion metrics\n",
        "def confusion_metrics (conf_matrix):\n",
        "# save confusion matrix and slice into four pieces\n",
        "    TP = conf_matrix[1][1]\n",
        "    TN = conf_matrix[0][0]\n",
        "    FP = conf_matrix[0][1]\n",
        "    FN = conf_matrix[1][0]\n",
        "    print('True Positives:', TP)\n",
        "    print('True Negatives:', TN)\n",
        "    print('False Positives:', FP)\n",
        "    print('False Negatives:', FN)\n",
        "    \n",
        "    # calculate accuracy\n",
        "    conf_accuracy = (float (TP+TN) / float(TP + TN + FP + FN))\n",
        "    \n",
        "    # calculate mis-classification\n",
        "    conf_misclassification = 1- conf_accuracy\n",
        "    \n",
        "    # calculate the sensitivity\n",
        "    conf_sensitivity = (TP / float(TP + FN))\n",
        "    # calculate the specificity\n",
        "    conf_specificity = (TN / float(TN + FP))\n",
        "    \n",
        "    # calculate precision\n",
        "    conf_precision = (TN / float(TN + FP))\n",
        "    # calculate f_1 score\n",
        "    conf_f1 = 2 * ((conf_precision * conf_sensitivity) / (conf_precision + conf_sensitivity))\n",
        "    print('-'*50)\n",
        "    print(f'Accuracy: {round(conf_accuracy,2)}') \n",
        "    print(f'Mis-Classification: {round(conf_misclassification,2)}') \n",
        "    print(f'Sensitivity: {round(conf_sensitivity,2)}') \n",
        "    print(f'Specificity: {round(conf_specificity,2)}') \n",
        "    print(f'Precision: {round(conf_precision,2)}')\n",
        "    print(f'f_1 Score: {round(conf_f1,2)}')\n",
        "\n",
        "    fpr, tpr, thresholds = metrics.roc_curve(target_test,predictions,pos_label=91)\n",
        "\n",
        "    plt.plot(fpr, tpr)\n",
        "    plt.xlim([0.0, 1.0])\n",
        "    plt.ylim([0.0, 1.0])\n",
        "    plt.rcParams['font.size'] = 12\n",
        "    plt.title('ROC curve for bank classifier')\n",
        "    plt.xlabel('False Positive Rate (1 - Specificity)')\n",
        "    plt.ylabel('True Positive Rate (Sensitivity)')\n",
        "    plt.grid(True)"
      ]
    },
    {
      "cell_type": "markdown",
      "metadata": {
        "colab_type": "text",
        "id": "tFBsaZpeMdIa"
      },
      "source": [
        "## **Printing an Error Matrix and Accuracy Score**"
      ]
    },
    {
      "cell_type": "code",
      "execution_count": 8,
      "metadata": {
        "colab": {
          "base_uri": "https://localhost:8080/",
          "height": 70
        },
        "colab_type": "code",
        "id": "urqzo3v7MzYp",
        "outputId": "33289bcf-32b1-4e83-b511-f134d47b2781"
      },
      "outputs": [
        {
          "name": "stdout",
          "output_type": "stream",
          "text": [
            "[[985   0]\n",
            " [  0 146]]\n",
            "1.0\n",
            "True Positives: 146\n",
            "True Negatives: 985\n",
            "False Positives: 0\n",
            "False Negatives: 0\n",
            "--------------------------------------------------\n",
            "Accuracy: 1.0\n",
            "Mis-Classification: 0.0\n",
            "Sensitivity: 1.0\n",
            "Specificity: 1.0\n",
            "Precision: 1.0\n",
            "f_1 Score: 1.0\n",
            "None\n"
          ]
        },
        {
          "data": {
            "image/png": "[encoded data removed]",
            "text/plain": [
              "<Figure size 432x288 with 1 Axes>"
            ]
          },
          "metadata": {
            "needs_background": "light"
          },
          "output_type": "display_data"
        }
      ],
      "source": [
        "print(confusion_matrix(target_test,predictions))\n",
        "print(accuracy_score(target_test,predictions))\n",
        "print(confusion_metrics(confusion_matrix(target_test,predictions)))"
      ]
    }
  ],
  "metadata": {
    "colab": {
      "collapsed_sections": [],
      "name": "Naive_Bayes Classifier.ipynb",
      "provenance": []
    },
    "interpreter": {
      "hash": "2db524e06e9f5f4ffedc911c917cb75e12dbc923643829bf417064a77eb14d37"
    },
    "kernelspec": {
      "display_name": "Python 3.8.9 64-bit",
      "name": "python3"
    },
    "language_info": {
      "codemirror_mode": {
        "name": "ipython",
        "version": 3
      },
      "file_extension": ".py",
      "mimetype": "text/x-python",
      "name": "python",
      "nbconvert_exporter": "python",
      "pygments_lexer": "ipython3",
      "version": "3.8.9"
    }
  },
  "nbformat": 4,
  "nbformat_minor": 0
}
