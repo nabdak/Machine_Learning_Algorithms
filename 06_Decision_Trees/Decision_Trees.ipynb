{
  "nbformat": 4,
  "nbformat_minor": 0,
  "metadata": {
    "colab": {
      "name": "Decision_Trees.ipynb",
      "provenance": [],
      "collapsed_sections": [],
      "toc_visible": true
    },
    "kernelspec": {
      "name": "python3",
      "display_name": "Python 3"
    }
  },
  "cells": [
    {
      "cell_type": "markdown",
      "metadata": {
        "id": "HFenp3yV-gcO",
        "colab_type": "text"
      },
      "source": [
        "## **Decision Trees**\n",
        "\n",
        "A decision tree is a flowchart-like structure in which each internal node represents a “test” on an attribute (e.g. whether a coin flip comes up heads or tails), each branch represents the outcome of the test, and each leaf node represents a class label (decision taken after computing all attributes).\n",
        "\n",
        "By [Muhammad Huzaifa Shahbaz](https://www.linkedin.com/in/mhuzaifadev)"
      ]
    },
    {
      "cell_type": "markdown",
      "metadata": {
        "id": "EkXtM692ev1u",
        "colab_type": "text"
      },
      "source": [
        "## **Importing libraries**\n"
      ]
    },
    {
      "cell_type": "code",
      "metadata": {
        "id": "hewapbOjdYLB",
        "colab_type": "code",
        "colab": {}
      },
      "source": [
        "import pandas as pd\n",
        "import numpy as np\n",
        "from sklearn.tree import DecisionTreeClassifier \n",
        "from sklearn.model_selection import train_test_split, GridSearchCV\n",
        "from sklearn.metrics import accuracy_score, confusion_matrix"
      ],
      "execution_count": 0,
      "outputs": []
    },
    {
      "cell_type": "markdown",
      "metadata": {
        "id": "7H35nRxvE4gp",
        "colab_type": "text"
      },
      "source": [
        "## **Dataset Loading**\n",
        "\n",
        "We will load data from the csv dataset"
      ]
    },
    {
      "cell_type": "code",
      "metadata": {
        "id": "eT6Vu1-0F3jF",
        "colab_type": "code",
        "colab": {}
      },
      "source": [
        "data = pd.read_csv(\".\\iris_data.csv\")"
      ],
      "execution_count": 0,
      "outputs": []
    },
    {
      "cell_type": "markdown",
      "metadata": {
        "id": "N0c60VUJEfr-",
        "colab_type": "text"
      },
      "source": [
        "## **Features Extraction**\n",
        "\n",
        "To apply a classifier on this data, we need to extract features and target data and split it into test and train."
      ]
    },
    {
      "cell_type": "code",
      "metadata": {
        "id": "CLm4haVcGf-N",
        "colab_type": "code",
        "colab": {}
      },
      "source": [
        "features = data[[\"SepalLength\",\"SepalWidth\",\"PetalLength\",\"PetalWidth\"]]\n",
        "targets = data.Class\n",
        "\n",
        "feature_train, feature_test, target_train, target_test = train_test_split(features,targets)"
      ],
      "execution_count": 0,
      "outputs": []
    },
    {
      "cell_type": "markdown",
      "metadata": {
        "id": "avcFhrNaO1TB",
        "colab_type": "text"
      },
      "source": [
        "## **Finding an Optimal Value**"
      ]
    },
    {
      "cell_type": "code",
      "metadata": {
        "id": "CFjn9HyMO1ml",
        "colab_type": "code",
        "colab": {
          "base_uri": "https://localhost:8080/",
          "height": 34
        },
        "outputId": "526ee695-bb90-4ec2-bdd7-e8f8a910f719"
      },
      "source": [
        "param_grid = {'max_depth': np.arange(1,10)}\n",
        "\n",
        "tree = GridSearchCV(DecisionTreeClassifier(), param_grid)\n",
        "fit_tree = tree.fit(feature_train, target_train)\n",
        "tree_predictions = fit_tree.predict_proba(feature_test)[:,1]\n",
        "print(fit_tree.best_params_)"
      ],
      "execution_count": 41,
      "outputs": [
        {
          "output_type": "stream",
          "text": [
            "{'max_depth': 7}\n"
          ],
          "name": "stdout"
        }
      ]
    },
    {
      "cell_type": "markdown",
      "metadata": {
        "id": "nHxk6jzYLx0m",
        "colab_type": "text"
      },
      "source": [
        "## **Training the Model**\n",
        "\n",
        "We will use Decision Trees Classifier for training the model."
      ]
    },
    {
      "cell_type": "code",
      "metadata": {
        "id": "1eAhZM71COWr",
        "colab_type": "code",
        "colab": {}
      },
      "source": [
        "model = DecisionTreeClassifier(criterion='entropy',max_depth=7)\n",
        "fit_model = model.fit(feature_train, target_train)\n",
        "\n",
        "predictions = fit_model.predict(feature_test)"
      ],
      "execution_count": 0,
      "outputs": []
    },
    {
      "cell_type": "markdown",
      "metadata": {
        "id": "tFBsaZpeMdIa",
        "colab_type": "text"
      },
      "source": [
        "## **Printing an Error Matrix and Accuracy Score**"
      ]
    },
    {
      "cell_type": "code",
      "metadata": {
        "id": "urqzo3v7MzYp",
        "colab_type": "code",
        "outputId": "274cf1ac-e310-4118-ddee-211be90d2118",
        "colab": {
          "base_uri": "https://localhost:8080/",
          "height": 87
        }
      },
      "source": [
        "print(confusion_matrix(target_test,predictions))\n",
        "print(accuracy_score(target_test,predictions))"
      ],
      "execution_count": 45,
      "outputs": [
        {
          "output_type": "stream",
          "text": [
            "[[13  0  0]\n",
            " [ 0 11  0]\n",
            " [ 0  1 13]]\n",
            "0.9736842105263158\n"
          ],
          "name": "stdout"
        }
      ]
    }
  ]
}
